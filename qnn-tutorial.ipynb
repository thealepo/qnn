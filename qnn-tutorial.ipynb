{
 "cells": [
  {
   "cell_type": "code",
   "execution_count": null,
   "id": "b03beada",
   "metadata": {},
   "outputs": [],
   "source": [
    "from sklearn.preprocessing import StandardScaler\n",
    "from sklearn.decomposition import PCA\n",
    "from sklearn.datasets import fetch_openml\n",
    "import numpy as np\n",
    "import matplotlib.pyplot as plt\n"
   ]
  },
  {
   "cell_type": "code",
   "execution_count": null,
   "id": "086af403",
   "metadata": {},
   "outputs": [],
   "source": [
    "def fetch_mnist():\n",
    "    mnist = fetch_openml('mnist_784' , version=1 , as_frame=False)\n",
    "    X , y = mnist.data , mnist.target.astype(int)\n",
    "\n",
    "    mask = (y == 0) | (y == 1)\n",
    "    X_filtered , y_filtered = X[mask] , y[mask]\n",
    "\n",
    "    shuffle_index = np.random.permutation(len(X_filtered))\n",
    "\n",
    "    X_shuffled = X_filtered[shuffle_index]\n",
    "    y_shuffled = y_filtered[shuffle_index]\n",
    "\n",
    "    return X_shuffled , y_shuffled\n",
    "\n",
    "def preprocess_image(x , n_components):\n",
    "    scaler = StandardScaler()\n",
    "    pca = PCA(n_components=n_components)\n",
    "\n",
    "    x_scaled = scaler.fit_transform(x)\n",
    "    x_pca = pca.fit_transform(x_scaled)\n",
    "\n",
    "    x_pca_normalized = 2.0*np.pi*(x_pca - x_pca.min(axis=0)) / (x_pca.max(axis=0) - x_pca.min(axis=0))\n",
    "    return x_pca_normalized"
   ]
  },
  {
   "cell_type": "code",
   "execution_count": null,
   "id": "98489f54",
   "metadata": {},
   "outputs": [],
   "source": [
    "from pennylane import numpy as np\n",
    "import pennylane as qml\n",
    "\n",
    "def create_qnn(n_layers , n_qubits):\n",
    "    dev = qml.device(\"default.qubit\")\n",
    "    @qml.qnode(dev)\n",
    "\n",
    "    def circuit(inputs , params):\n",
    "        \n",
    "        # Angle Encoding\n",
    "        for q , feature in enumerate(inputs):\n",
    "            qml.RX(feature , wires=q)\n",
    "\n",
    "        # Setup Circuit\n",
    "        for layer in range(n_layers):\n",
    "\n",
    "            for qubit in range(n_qubits):\n",
    "                qml.RX(params[layer][qubit][0] , wires=qubit)\n",
    "                qml.RY(params[layer][qubit][1] , wires=qubit)\n",
    "                qml.RZ(params[layer][qubit][2] , wires=qubit)\n",
    "\n",
    "            for qubit in range(n_qubits):\n",
    "                if qubit != n_qubits-1:\n",
    "                    qml.CNOT(wires=[qubit , qubit+1])\n",
    "                else:\n",
    "                    qml.CNOT(wires=[qubit , 0])\n",
    "\n",
    "                # Measure first qubit and return result\n",
    "                result = qml.probs(wires=0)\n",
    "                return result\n",
    "            \n",
    "        return circuit"
   ]
  },
  {
   "cell_type": "code",
   "execution_count": null,
   "id": "c22864af",
   "metadata": {},
   "outputs": [],
   "source": []
  }
 ],
 "metadata": {
  "language_info": {
   "name": "python"
  }
 },
 "nbformat": 4,
 "nbformat_minor": 5
}
